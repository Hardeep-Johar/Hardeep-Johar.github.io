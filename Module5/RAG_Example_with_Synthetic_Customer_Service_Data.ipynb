{
  "cells": [
    {
      "cell_type": "markdown",
      "metadata": {
        "id": "ksxmSHwU4Z9m"
      },
      "source": [
        "# Building RAG Chatbots with OpenAI API, LangChain and FAISS(Facebook AI Similarity Search)\n",
        "\n"
      ]
    },
    {
      "cell_type": "markdown",
      "metadata": {
        "id": "NT4HPOxQ4Z9m"
      },
      "source": [
        "In this example, we will build a simple AI chatbot for ecommerce customer service using synthetic customer service FAQs and **R**etrieval **A**ugmented **G**eneration (RAG). We will be using OpenAI API, LangChain, and FAISS(Facebook AI Similarity Search) to build the chatbot.\n",
        "\n",
        "By the end of the example we'll have a functioning chatbot and RAG pipeline that can hold a conversation and provide informative responses based on a knowledge base.\n",
        "\n",
        "### Before you begin\n",
        "\n",
        "You'll need to get an [OpenAI API key](https://platform.openai.com/account/api-keys)\n",
        "\n",
        "* Save the key in a file in your google drive in the \"Colab Notebooks\" folder\n",
        "* For example, name the file \"openai\""
      ]
    },
    {
      "cell_type": "markdown",
      "metadata": {
        "id": "hzR5MU-YK9ZM"
      },
      "source": [
        "## Access the key\n",
        "* Open the \"Colab Notebooks\" folder\n",
        "* Read the file containing the key (you may need to change the file name in the with open command below)\n",
        "* Set the OPENAI_API_KEY environmental *variable*"
      ]
    },
    {
      "cell_type": "code",
      "execution_count": 1,
      "metadata": {
        "id": "CnQ3aa3ghjf8",
        "outputId": "e9c446ca-c0e8-4740-bd81-cbe4d648d74b",
        "colab": {
          "base_uri": "https://localhost:8080/"
        }
      },
      "outputs": [
        {
          "output_type": "stream",
          "name": "stdout",
          "text": [
            "Mounted at /content/drive\n"
          ]
        }
      ],
      "source": [
        "from google.colab import drive\n",
        "drive.mount('/content/drive',force_remount=True)\n",
        "\n",
        "with open(\"/content/drive/My Drive/Colab Notebooks/openai\") as f:\n",
        "  OPENAI_token = f.read().strip()\n",
        "\n",
        "import os\n",
        "os.environ[\"OPENAI_API_KEY\"]=OPENAI_token"
      ]
    },
    {
      "cell_type": "markdown",
      "metadata": {
        "id": "pJMC1sKdLeIG"
      },
      "source": [
        "* You can also just paste the key replacing \"your_openai_api_key_here\" in the cell below but that's not a good practice if you share your notebook with someone else!"
      ]
    },
    {
      "cell_type": "code",
      "execution_count": null,
      "metadata": {
        "id": "t04bOZLS1iJj"
      },
      "outputs": [],
      "source": [
        "import os\n",
        "os.environ[\"OPENAI_API_KEY\"] = \"your_openai_api_key_here\""
      ]
    },
    {
      "cell_type": "markdown",
      "metadata": {
        "id": "-NxjziuZ4Z9n"
      },
      "source": [
        "### Prerequisites"
      ]
    },
    {
      "cell_type": "markdown",
      "metadata": {
        "id": "fHeaDpbV4Z9n"
      },
      "source": [
        "Before we start building our chatbot, we need to install some Python libraries. You can install these libraries using pip as shown below:\n"
      ]
    },
    {
      "cell_type": "code",
      "execution_count": 2,
      "metadata": {
        "colab": {
          "base_uri": "https://localhost:8080/"
        },
        "id": "J68VkIdE4Z9n",
        "outputId": "c5b64c25-cc2d-48da-e4ce-bf35d06ce4c9"
      },
      "outputs": [
        {
          "output_type": "stream",
          "name": "stdout",
          "text": [
            "\u001b[2K     \u001b[90m━━━━━━━━━━━━━━━━━━━━━━━━━━━━━━━━━━━━━━━━\u001b[0m \u001b[32m973.5/973.5 kB\u001b[0m \u001b[31m21.2 MB/s\u001b[0m eta \u001b[36m0:00:00\u001b[0m\n",
            "\u001b[2K     \u001b[90m━━━━━━━━━━━━━━━━━━━━━━━━━━━━━━━━━━━━━━━━\u001b[0m \u001b[32m2.1/2.1 MB\u001b[0m \u001b[31m11.1 MB/s\u001b[0m eta \u001b[36m0:00:00\u001b[0m\n",
            "\u001b[2K     \u001b[90m━━━━━━━━━━━━━━━━━━━━━━━━━━━━━━━━━━━━━━━━\u001b[0m \u001b[32m320.7/320.7 kB\u001b[0m \u001b[31m34.5 MB/s\u001b[0m eta \u001b[36m0:00:00\u001b[0m\n",
            "\u001b[2K     \u001b[90m━━━━━━━━━━━━━━━━━━━━━━━━━━━━━━━━━━━━━━━━\u001b[0m \u001b[32m85.5/85.5 MB\u001b[0m \u001b[31m8.3 MB/s\u001b[0m eta \u001b[36m0:00:00\u001b[0m\n",
            "\u001b[2K     \u001b[90m━━━━━━━━━━━━━━━━━━━━━━━━━━━━━━━━━━━━━━━━\u001b[0m \u001b[32m321.8/321.8 kB\u001b[0m \u001b[31m36.0 MB/s\u001b[0m eta \u001b[36m0:00:00\u001b[0m\n",
            "\u001b[2K     \u001b[90m━━━━━━━━━━━━━━━━━━━━━━━━━━━━━━━━━━━━━━━━\u001b[0m \u001b[32m127.4/127.4 kB\u001b[0m \u001b[31m17.0 MB/s\u001b[0m eta \u001b[36m0:00:00\u001b[0m\n",
            "\u001b[2K     \u001b[90m━━━━━━━━━━━━━━━━━━━━━━━━━━━━━━━━━━━━━━━━\u001b[0m \u001b[32m1.1/1.1 MB\u001b[0m \u001b[31m60.8 MB/s\u001b[0m eta \u001b[36m0:00:00\u001b[0m\n",
            "\u001b[2K     \u001b[90m━━━━━━━━━━━━━━━━━━━━━━━━━━━━━━━━━━━━━━━━\u001b[0m \u001b[32m75.6/75.6 kB\u001b[0m \u001b[31m10.2 MB/s\u001b[0m eta \u001b[36m0:00:00\u001b[0m\n",
            "\u001b[2K     \u001b[90m━━━━━━━━━━━━━━━━━━━━━━━━━━━━━━━━━━━━━━━━\u001b[0m \u001b[32m49.2/49.2 kB\u001b[0m \u001b[31m6.8 MB/s\u001b[0m eta \u001b[36m0:00:00\u001b[0m\n",
            "\u001b[2K     \u001b[90m━━━━━━━━━━━━━━━━━━━━━━━━━━━━━━━━━━━━━━━━\u001b[0m \u001b[32m77.9/77.9 kB\u001b[0m \u001b[31m10.4 MB/s\u001b[0m eta \u001b[36m0:00:00\u001b[0m\n",
            "\u001b[2K     \u001b[90m━━━━━━━━━━━━━━━━━━━━━━━━━━━━━━━━━━━━━━━━\u001b[0m \u001b[32m58.3/58.3 kB\u001b[0m \u001b[31m8.2 MB/s\u001b[0m eta \u001b[36m0:00:00\u001b[0m\n",
            "\u001b[2K     \u001b[90m━━━━━━━━━━━━━━━━━━━━━━━━━━━━━━━━━━━━━━━━\u001b[0m \u001b[32m145.0/145.0 kB\u001b[0m \u001b[31m16.6 MB/s\u001b[0m eta \u001b[36m0:00:00\u001b[0m\n",
            "\u001b[?25h"
          ]
        }
      ],
      "source": [
        "!pip install -qU \\\n",
        "    langchain==0.2.1 \\\n",
        "    langchain-community==0.2.1 \\\n",
        "    langchain-openai==0.1.8 \\\n",
        "    openai==1.30.5 \\\n",
        "    faiss-gpu==1.7.2"
      ]
    },
    {
      "cell_type": "markdown",
      "metadata": {
        "id": "siv-FVKu4Z9o"
      },
      "source": [
        "### STEP 1: Let's build a chatbot without RAG first."
      ]
    },
    {
      "cell_type": "markdown",
      "metadata": {
        "id": "MUdWFGOv4Z9o"
      },
      "source": [
        "We will be relying heavily on the LangChain library to bring together the different components needed for our chatbot. To begin, we'll create a simple chatbot without any retrieval augmentation. We do this by initializing a `ChatOpenAI` object. You need an [OpenAI API key](https://platform.openai.com/account/api-keys) to accomplish this step."
      ]
    },
    {
      "cell_type": "code",
      "execution_count": 3,
      "metadata": {
        "id": "sabekWFh4Z9o"
      },
      "outputs": [],
      "source": [
        "import os\n",
        "from langchain_openai import ChatOpenAI\n",
        "\n",
        "os.environ[\"OPENAI_API_KEY\"] = os.getenv(\"OPENAI_API_KEY\")\n",
        "\n",
        "chat = ChatOpenAI(\n",
        "    model='gpt-4'\n",
        ")"
      ]
    },
    {
      "cell_type": "markdown",
      "metadata": {
        "id": "C4MwQXUH4Z9o"
      },
      "source": [
        "Next, we need to introduce [LangChain](https://python.langchain.com/v0.2/docs/introduction/). LangChain is an open source orchestration framework for the development of applications using large language models (LLMs). Its tools and APIs simplify the process of building LLM-driven applications like chatbots and virtual agents.\n",
        "\n",
        "In LangChain, we use three _message_ objects to construct a conversation as shown below:"
      ]
    },
    {
      "cell_type": "code",
      "execution_count": 5,
      "metadata": {
        "id": "yQQ-_bap4Z9o"
      },
      "outputs": [],
      "source": [
        "from langchain.schema import (\n",
        "    SystemMessage,\n",
        "    HumanMessage,\n",
        "    AIMessage\n",
        ")\n",
        "\n",
        "messages = [\n",
        "    SystemMessage(content=\"You are a helpful assistant.\"),\n",
        "    HumanMessage(content=\"How do I return my LED TV?\")\n",
        "]"
      ]
    },
    {
      "cell_type": "markdown",
      "metadata": {
        "id": "AKuouQV14Z9o"
      },
      "source": [
        "Then, we generate the next response from the AI by passing these messages to the `ChatOpenAI` object."
      ]
    },
    {
      "cell_type": "code",
      "execution_count": 6,
      "metadata": {
        "colab": {
          "base_uri": "https://localhost:8080/"
        },
        "id": "0fJy2Jqq4Z9o",
        "outputId": "e42e4e93-c489-4137-8361-d3529911c472"
      },
      "outputs": [
        {
          "output_type": "execute_result",
          "data": {
            "text/plain": [
              "AIMessage(content=\"Returning your LED TV may depend on the store's return policy where you bought it, but here's a general process:\\n\\n1. Check Return Policy: Ensure that the store where you purchased the LED TV allows returns. Some stores have a specific time period during which returns can be made, typically around 30 days. \\n\\n2. Keep Your Receipt: Always keep your purchase receipt. This can be either a paper receipt or an online confirmation of your order. \\n\\n3. Original Packaging: If possible, return the TV in its original packaging. This includes all manuals, accessories, and any free gifts that came with the TV.\\n\\n4. Contact Customer Service: Contact the store's customer service department. They will provide specific instructions on how to return your TV. If you purchased the TV online, they might email you a return shipping label.\\n\\n5. Shipping: If you're shipping the TV, make sure it's packed securely to prevent any damage during transport. You may prefer to use a shipping company that offers insurance, especially for high-value items like a TV.\\n\\n6. Refund: Once the store receives your returned TV and checks that everything is in order, they will process your refund. This might take a few days or weeks, depending on the store's policy.\\n\\nRemember to check the specific return policy of the store where you purchased your TV, as they may have additional requirements or procedures for returns.\", response_metadata={'token_usage': {'completion_tokens': 281, 'prompt_tokens': 25, 'total_tokens': 306}, 'model_name': 'gpt-4', 'system_fingerprint': None, 'finish_reason': 'stop', 'logprobs': None}, id='run-4c9153ad-79a1-46f7-8578-b4ad6729d702-0', usage_metadata={'input_tokens': 25, 'output_tokens': 281, 'total_tokens': 306})"
            ]
          },
          "metadata": {},
          "execution_count": 6
        }
      ],
      "source": [
        "res = chat.invoke(messages)\n",
        "res"
      ]
    },
    {
      "cell_type": "markdown",
      "metadata": {
        "id": "MLULM_xy4Z9p"
      },
      "source": [
        "In response we get another AI message object. We can print it more clearly like so:"
      ]
    },
    {
      "cell_type": "code",
      "execution_count": 7,
      "metadata": {
        "colab": {
          "base_uri": "https://localhost:8080/"
        },
        "id": "fzI52maP4Z9p",
        "outputId": "5e7abff7-c230-40c3-b422-9c10254c2763"
      },
      "outputs": [
        {
          "output_type": "stream",
          "name": "stdout",
          "text": [
            "Returning your LED TV may depend on the store's return policy where you bought it, but here's a general process:\n",
            "\n",
            "1. Check Return Policy: Ensure that the store where you purchased the LED TV allows returns. Some stores have a specific time period during which returns can be made, typically around 30 days. \n",
            "\n",
            "2. Keep Your Receipt: Always keep your purchase receipt. This can be either a paper receipt or an online confirmation of your order. \n",
            "\n",
            "3. Original Packaging: If possible, return the TV in its original packaging. This includes all manuals, accessories, and any free gifts that came with the TV.\n",
            "\n",
            "4. Contact Customer Service: Contact the store's customer service department. They will provide specific instructions on how to return your TV. If you purchased the TV online, they might email you a return shipping label.\n",
            "\n",
            "5. Shipping: If you're shipping the TV, make sure it's packed securely to prevent any damage during transport. You may prefer to use a shipping company that offers insurance, especially for high-value items like a TV.\n",
            "\n",
            "6. Refund: Once the store receives your returned TV and checks that everything is in order, they will process your refund. This might take a few days or weeks, depending on the store's policy.\n",
            "\n",
            "Remember to check the specific return policy of the store where you purchased your TV, as they may have additional requirements or procedures for returns.\n"
          ]
        }
      ],
      "source": [
        "print(res.content)"
      ]
    },
    {
      "cell_type": "markdown",
      "metadata": {
        "id": "Q34iDGFt4Z9p"
      },
      "source": [
        "Because `res` is just another `AIMessage` object, we can append it to `messages`, add another `HumanMessage`, and generate the next response in the conversation."
      ]
    },
    {
      "cell_type": "code",
      "execution_count": 8,
      "metadata": {
        "colab": {
          "base_uri": "https://localhost:8080/"
        },
        "id": "2pXIX3An4Z9p",
        "outputId": "84b8c61b-ce1f-4c99-c83a-d078703ca30c"
      },
      "outputs": [
        {
          "output_type": "stream",
          "name": "stdout",
          "text": [
            "The time it takes for a refund to appear in your bank account can vary depending on the retailer and the bank. Generally, it can take anywhere from 3-5 business days up to 7-10 business days. However, some banks or credit card companies may take up to 30 days to process a refund. If you don't see the refund in your account after this time, it's a good idea to follow up with both the retailer and your bank.\n"
          ]
        }
      ],
      "source": [
        "# add latest AI response to messages\n",
        "messages.append(res)\n",
        "\n",
        "# now create a new user prompt\n",
        "prompt = HumanMessage(\n",
        "    content=\"How long would it take for the refund to reflect in my bank account?\"\n",
        ")\n",
        "# add to messages\n",
        "messages.append(prompt)\n",
        "\n",
        "# send to ChatOpenAI\n",
        "res = chat.invoke(messages)\n",
        "\n",
        "print(res.content)"
      ]
    },
    {
      "cell_type": "markdown",
      "metadata": {
        "id": "_iR3CmdG4Z9p"
      },
      "source": [
        "### STEP 2: Now we have a basic chatbot. Let's work on building our vector knowledge base."
      ]
    },
    {
      "cell_type": "markdown",
      "metadata": {
        "id": "fzPIxXG_4Z9p"
      },
      "source": [
        "\n",
        "We have our chatbot, but notice that it is giving generic responses. The reason for this is that the LLM is using general knowledge about returning products. It has no knowledge about our return policies and procedures.\n",
        "\n",
        "LLMs learn all they know during training. An LLM essentially compresses the \"world\" as seen in the training data into the internal parameters of the model.  We call this knowledge the _parametric knowledge_ of the model.\n",
        "\n",
        "By default, LLMs have no access to the external world or private databases. We provide additional, targeted, information to the LLM using vector databases.\n",
        "\n",
        "So first, we'll need a dataset. I've provided you with a synthetic e-commerce customer service dataset below and I'll walk you through the steps to set up the vector store. First let's take a look at how to generate vector embeddings."
      ]
    },
    {
      "cell_type": "markdown",
      "metadata": {
        "id": "S0UqfVNK8Pai"
      },
      "source": [
        "Step 2.1: **Generate Vector Embeddings**\n",
        "\n",
        "- Prepare Your Data: Gather the text data you want to include in your knowledge base. In our case, the synthetic customer service data.\n",
        "- Generate Embeddings: Use a pre-trained model (like OpenAI's `text-embedding-ada-002` model or other embedding models) to convert your text data into vector embeddings. Each text entry will be represented as a vector of numbers.\n"
      ]
    },
    {
      "cell_type": "code",
      "execution_count": 9,
      "metadata": {
        "id": "4yV9qvZ0pyNw"
      },
      "outputs": [],
      "source": [
        "from langchain_openai import OpenAIEmbeddings\n",
        "\n",
        "openai_api_key = os.environ.get('OPENAI_API_KEY')\n",
        "model_name = 'text-embedding-ada-002'\n",
        "\n",
        "embed = OpenAIEmbeddings(\n",
        "    model=model_name,\n",
        "    openai_api_key=openai_api_key\n",
        ")\n",
        "\n",
        "# Sample FAQ data\n",
        "faq_data = [\n",
        "    \"To return your LED TV, ensure it is in its original packaging and includes all accessories. Returns are accepted within 30 days of purchase. A restocking fee of 15% may apply.\",\n",
        "    \"Laptops can be returned within 14 days of purchase. Please make sure the device is in its original condition with all accessories and packaging. A restocking fee of 10% may apply.\",\n",
        "    \"For Camera returns, please ensure the camera, lens, and all accessories are included in the original packaging. Returns are accepted within 30 days, and items must be in new condition.\",\n",
        "    \"Home appliances can be returned within 30 days of purchase. Make sure the appliance is unused, in its original packaging, and includes all accessories. A restocking fee of 10% may apply.\",\n",
        "    \"You can track your order by logging into your account, going to 'My Orders', and clicking on 'Track Order' next to the relevant order.\",\n",
        "    \"We offer standard and express shipping options. Standard shipping typically takes 5-7 business days, while express shipping takes 2-3 business days.\",\n",
        "    \"For any questions or assistance, please contact our customer support team via the 'Contact Us' page on our website, by phone at 1-800-123-4567, or by email at support@example.com.\",\n",
        "    \"To navigate our e-commerce site, use the menu at the top of the page to browse different categories. You can use the search bar to find specific items. For detailed product information, click on the product image or title.\",\n",
        "    \"Shipping costs are calculated at checkout based on your location and the shipping method selected. We offer free shipping on orders over $50.\",\n",
        "    \"To change or cancel your order, please contact our customer support team as soon as possible. If the order has not yet been processed, we will be able to make the changes or cancel it for you.\",\n",
        "    \"Payments can be declined for various reasons, such as incorrect card details, insufficient funds, or issues with the card issuer. Please check your details and try again or contact your bank for more information.\",\n",
        "    \"If your order has not yet been shipped, you can change the shipping address by contacting our customer support team.\",\n",
        "    \"If you receive a damaged or defective item, please contact our customer support team immediately. We will arrange for a replacement or a refund.\"\n",
        "    \"Refund to store credit typically happens instantly. Refund to your original form of purchase such as credit/debit card, bank account, etc might take 7-14 business days to process.\"\n",
        "]\n",
        "\n"
      ]
    },
    {
      "cell_type": "markdown",
      "metadata": {
        "id": "zg0V4Pp-wXKO"
      },
      "source": [
        "Step 2.2: **Setup Vectorstore using FAISS(Facebook AI Similarity Search)**\n",
        "- In the cell below, we demonstrate how to use the faiss package to create a FAISS Index directly from colab\n",
        "- FAISS (Facebook AI Similarity Search) is a python library for searching and clustering vectors. Recall that we use embedded word vectors to store knowledge in text AI applications. FAISS, with its similarity functionality, helps us retreive knowledge effectively\n",
        "- For more information on Facebook AI Similarity Search, see: https://ai.meta.com/tools/faiss/"
      ]
    },
    {
      "cell_type": "code",
      "execution_count": 10,
      "metadata": {
        "id": "qJ2scJ5ptFdk"
      },
      "outputs": [],
      "source": [
        "from langchain_community.vectorstores import FAISS\n",
        "import faiss\n",
        "\n",
        "# Add embeddings to the FAISS index\n",
        "faiss_index = FAISS.from_texts(faq_data, embed)"
      ]
    },
    {
      "cell_type": "markdown",
      "metadata": {
        "id": "HUyrUh5P4Z9u"
      },
      "source": [
        "### STEP 3: We are ready to connect the chatbot to our vector knowledge base using RAG."
      ]
    },
    {
      "cell_type": "markdown",
      "metadata": {
        "id": "2vf-pcYH4Z9u"
      },
      "source": [
        "We've built a fully-fledged knowledge base. Now it's time to connect that knowledge base to our chatbot. To do that, I've prepared the retrive_similar_faq function that based on the query, retrives the top 3 similar customer service question from the database we provided earlier."
      ]
    },
    {
      "cell_type": "code",
      "execution_count": 11,
      "metadata": {
        "id": "N5Eqp4NM4Z9u"
      },
      "outputs": [],
      "source": [
        "import numpy as np\n",
        "\n",
        "def retrieve_similar_faq(query):\n",
        "    query_embedding = embed.embed_query(query)\n",
        "    query_embedding_np = np.array(query_embedding).astype(\"float32\").reshape(1, -1)  # Convert to numpy array\n",
        "    D, I = faiss_index.index.search(query_embedding_np, k=3)\n",
        "    return [faq_data[i] for i in I[0]]"
      ]
    },
    {
      "cell_type": "markdown",
      "metadata": {
        "id": "DibQc4jq4Z9u"
      },
      "source": [
        "Let's see how it works."
      ]
    },
    {
      "cell_type": "code",
      "execution_count": 12,
      "metadata": {
        "colab": {
          "base_uri": "https://localhost:8080/"
        },
        "id": "l8GCSQSV0Cyv",
        "outputId": "d52eeec4-4e58-40d3-df8b-e620b92ad1c8"
      },
      "outputs": [
        {
          "output_type": "stream",
          "name": "stdout",
          "text": [
            "To return your LED TV, ensure it is in its original packaging and includes all accessories. Returns are accepted within 30 days of purchase. A restocking fee of 15% may apply.\n",
            "Home appliances can be returned within 30 days of purchase. Make sure the appliance is unused, in its original packaging, and includes all accessories. A restocking fee of 10% may apply.\n",
            "Laptops can be returned within 14 days of purchase. Please make sure the device is in its original condition with all accessories and packaging. A restocking fee of 10% may apply.\n"
          ]
        }
      ],
      "source": [
        "query = \"How do I return my LED TV?\"\n",
        "similar_faqs = retrieve_similar_faq(query)\n",
        "for faq in similar_faqs:\n",
        "    print(faq)"
      ]
    },
    {
      "cell_type": "markdown",
      "metadata": {
        "id": "uHVdDFi24Z9u"
      },
      "source": [
        "We return a lot of text here and it's not that clear what we need or what is relevant. Fortunately, our LLM will be able to parse this information much faster than us. All we need is to connect the output from our `retrieve_similar_faq` to our `chat` chatbot. To do that we can use the same logic as we used earlier."
      ]
    },
    {
      "cell_type": "code",
      "execution_count": 13,
      "metadata": {
        "id": "nyXeYIJp4Z9u"
      },
      "outputs": [],
      "source": [
        "def augment_prompt(query: str):\n",
        "    # get top 3 results from knowledge base\n",
        "    results = retrieve_similar_faq(query)\n",
        "    # get the text from the results\n",
        "    source_knowledge = \"\\n\".join(results)\n",
        "    # feed into an augmented prompt\n",
        "    augmented_prompt = f\"\"\"Using the contexts below, answer the query.\n",
        "\n",
        "    Contexts:\n",
        "    {source_knowledge}\n",
        "\n",
        "    Query: {query}\"\"\"\n",
        "    return augmented_prompt"
      ]
    },
    {
      "cell_type": "markdown",
      "metadata": {
        "id": "NOGRt-Jr4Z9v"
      },
      "source": [
        "Using this we produce an augmented prompt:"
      ]
    },
    {
      "cell_type": "code",
      "execution_count": 14,
      "metadata": {
        "colab": {
          "base_uri": "https://localhost:8080/"
        },
        "id": "-1xpq9MM4Z9v",
        "outputId": "696021d1-c504-417c-a94c-e2fb74f349e2"
      },
      "outputs": [
        {
          "output_type": "stream",
          "name": "stdout",
          "text": [
            "Using the contexts below, answer the query.\n",
            "\n",
            "    Contexts:\n",
            "    To return your LED TV, ensure it is in its original packaging and includes all accessories. Returns are accepted within 30 days of purchase. A restocking fee of 15% may apply.\n",
            "Home appliances can be returned within 30 days of purchase. Make sure the appliance is unused, in its original packaging, and includes all accessories. A restocking fee of 10% may apply.\n",
            "Laptops can be returned within 14 days of purchase. Please make sure the device is in its original condition with all accessories and packaging. A restocking fee of 10% may apply.\n",
            "\n",
            "    Query: How do I return my LED TV?\n"
          ]
        }
      ],
      "source": [
        "print(augment_prompt(query))"
      ]
    },
    {
      "cell_type": "markdown",
      "metadata": {
        "id": "kKR6pC2C4Z9v"
      },
      "source": [
        "There is still a lot of text here, so let's pass it onto our chat model to see how it performs."
      ]
    },
    {
      "cell_type": "markdown",
      "metadata": {
        "id": "dcdivDNJCQVc"
      },
      "source": [
        "### Result:\n",
        "\n",
        "We get a much more informed response that includes several items from our knowldge base."
      ]
    },
    {
      "cell_type": "code",
      "execution_count": 15,
      "metadata": {
        "colab": {
          "base_uri": "https://localhost:8080/"
        },
        "id": "TVmaLMCt4Z9v",
        "outputId": "cc9d646b-6700-43fc-bd52-a81f6721f500"
      },
      "outputs": [
        {
          "output_type": "stream",
          "name": "stdout",
          "text": [
            "To return your LED TV, make sure it is in its original packaging and includes all accessories. Returns for LED TVs are accepted within 30 days of purchase. Please note that a restocking fee of 15% may apply.\n"
          ]
        }
      ],
      "source": [
        "messages_RAG = [\n",
        "    SystemMessage(content=\"You are a helpful assistant.\")\n",
        "]\n",
        "\n",
        "query = \"How do I return my LED TV?\"\n",
        "# create a new user prompt\n",
        "prompt = HumanMessage(\n",
        "    content=augment_prompt(query)\n",
        ")\n",
        "# add to messages\n",
        "messages_RAG.append(prompt)\n",
        "\n",
        "res_RAG = chat.invoke(messages_RAG)\n",
        "\n",
        "print(res_RAG.content)"
      ]
    },
    {
      "cell_type": "code",
      "execution_count": 16,
      "metadata": {
        "colab": {
          "base_uri": "https://localhost:8080/"
        },
        "id": "L0ARgXqN0tX7",
        "outputId": "74d91a39-4778-4a99-9c24-c94fc81e1d5d"
      },
      "outputs": [
        {
          "output_type": "stream",
          "name": "stdout",
          "text": [
            "The refund to your original form of purchase such as a bank account might take 7-14 business days to process.\n"
          ]
        }
      ],
      "source": [
        "# add latest AI response to messages\n",
        "messages_RAG.append(res_RAG)\n",
        "\n",
        "query = \"How long would it take for the refund to reflect in my bank account?\"\n",
        "# create a new user prompt\n",
        "prompt = HumanMessage(\n",
        "    content=augment_prompt(query)\n",
        ")\n",
        "\n",
        "# add to messages\n",
        "messages_RAG.append(prompt)\n",
        "\n",
        "# send to ChatOpenAI\n",
        "res_RAG = chat.invoke(messages_RAG)\n",
        "\n",
        "print(res_RAG.content)"
      ]
    },
    {
      "cell_type": "markdown",
      "metadata": {
        "id": "_P3-eVI-pTvx"
      },
      "source": [
        "## Compare the Vanilla GPT4 with RAG GPT4\n",
        "---\n",
        "## Question: How do I return my LED TV?\n",
        "\n",
        "### Vanilla Answer:\n",
        "\n",
        "Returning an LED TV generally depends on the store from where it was purchased. However, here are some general steps that you can follow:\n",
        "\n",
        "1. **Check the Store's Return Policy**: This will typically be found on their website or on your receipt.\n",
        "\n",
        "2. **Pack the TV**: If you have the original packaging, use that to repack the TV securely. If not, you'll need to find a box that will fit the TV and add enough padding to prevent any damage.\n",
        "\n",
        "3. **Contact the Store**: Reach out to the store's customer service and let them know you want to return the TV. They'll guide you through their specific process. This might involve providing a receipt or proof of purchase.\n",
        "\n",
        "4. **Ship or Drop Off**: Depending on the store's policy, you might need to ship the TV back to them or drop it off at a store location.\n",
        "\n",
        "Remember, every store has different policies, and some might not accept returns after a certain period of time or if the TV isn't in its original condition. Always check the specifics with the store where you purchased the TV.\n",
        "\n",
        "### RAG Answer:\n",
        "\n",
        "To return your LED TV, ensure that the TV is in its original packaging and includes all the accessories that it came with. The return must be made within 30 days of the purchase. Please note, a restocking fee of 15% may apply.\n",
        "\n",
        "---\n",
        "\n",
        "## Next question: How long would it take for the refund to reflect in my bank account\n",
        "\n",
        "### Vanilla Answer:\n",
        "The time it takes for a refund to appear in your bank account can vary widely based on the retailer and your bank. Generally, it can take anywhere from a few business days up to 10 business days. Some banks may take even longer to process the refund transaction.\n",
        "\n",
        "Once the retailer processes your refund, they will typically provide some sort of confirmation. If you don't see the refund in your account after a reasonable amount of time, it might be a good idea to contact both the retailer and your bank to check on the status.\n",
        "\n",
        "\n",
        "### RAG Answer:\n",
        "\n",
        "The refund to your original form of purchase such as a bank account might take 7-14 business days to process.\n",
        "\n",
        "---"
      ]
    },
    {
      "cell_type": "markdown",
      "metadata": {
        "id": "4VDib8dpr-Fh"
      },
      "source": [
        "# What if we ask RAG Chatbot something it doesn't know?\n",
        "\n",
        "How about we try asking the vanilla GPT4 and our RAG Chatbot a question not in the faq such as \"How should I return the water bottle?\""
      ]
    },
    {
      "cell_type": "markdown",
      "metadata": {
        "id": "ofV1MU45uAcM"
      },
      "source": [
        "## vanilla GPT4"
      ]
    },
    {
      "cell_type": "code",
      "execution_count": 17,
      "metadata": {
        "colab": {
          "base_uri": "https://localhost:8080/"
        },
        "id": "k6okIdJrtWdJ",
        "outputId": "a19051e7-7175-4d4c-8e53-31062be70592"
      },
      "outputs": [
        {
          "output_type": "stream",
          "name": "stdout",
          "text": [
            "Returning your water bottle is similar to returning other items. Here's a general guideline:\n",
            "\n",
            "1. Check Return Policy: Look at the store's or website's return policy where you purchased the water bottle. Some places have a time limit for returns, often around 30 days.\n",
            "\n",
            "2. Receipt: Keep your receipt or order confirmation as proof of purchase.\n",
            "\n",
            "3. Condition: The water bottle should be in good condition. If it's used, you may need to clean it before returning. If it's defective, this should be specified when returning.\n",
            "\n",
            "4. Contact Customer Service: Reach out to the store's customer service department for specific instructions on how to return your water bottle. If you purchased it online, they might provide a return shipping label.\n",
            "\n",
            "5. Packaging: Pack the water bottle securely to prevent any damage during transport if you're shipping it back. \n",
            "\n",
            "6. Return: Follow the store's instructions to return the item. This may involve shipping it back or returning it to a physical store location.\n",
            "\n",
            "7. Refund: Once the store receives your returned water bottle and checks that everything is in order, they will process your refund. This might take a few days or weeks, depending on the store's policy.\n",
            "\n",
            "Again, it's important to check the specific return policy of the store where you purchased your water bottle, as each store may have different requirements or procedures for returns.\n"
          ]
        }
      ],
      "source": [
        "# vanilla GPT4\n",
        "query = \"How should I return the water bottle?\"\n",
        "# create a new user prompt\n",
        "prompt = HumanMessage(\n",
        "    content=query\n",
        ")\n",
        "\n",
        "# add to messages\n",
        "messages.append(prompt)\n",
        "\n",
        "# send to ChatOpenAI\n",
        "res = chat.invoke(messages)\n",
        "\n",
        "print(res.content)"
      ]
    },
    {
      "cell_type": "markdown",
      "metadata": {
        "id": "Ydy4JJYhuErh"
      },
      "source": [
        "## RAG"
      ]
    },
    {
      "cell_type": "code",
      "execution_count": 18,
      "metadata": {
        "colab": {
          "base_uri": "https://localhost:8080/"
        },
        "id": "_FqdtPGgsjgL",
        "outputId": "7cef2001-06e4-4c9f-8de7-7ecfe1b7efbe"
      },
      "outputs": [
        {
          "output_type": "stream",
          "name": "stdout",
          "text": [
            "The contexts provided do not contain specific information on how to return a water bottle. Please refer to the appropriate return policy or contact customer service for further assistance.\n"
          ]
        }
      ],
      "source": [
        "# RAG\n",
        "query = \"How should I return the water bottle?\"\n",
        "# create a new user prompt\n",
        "prompt = HumanMessage(\n",
        "    content=augment_prompt(query)\n",
        ")\n",
        "\n",
        "# add to messages\n",
        "messages_RAG.append(prompt)\n",
        "\n",
        "# send to ChatOpenAI\n",
        "res_RAG = chat.invoke(messages_RAG)\n",
        "\n",
        "print(res_RAG.content)"
      ]
    },
    {
      "cell_type": "code",
      "execution_count": 19,
      "metadata": {
        "colab": {
          "base_uri": "https://localhost:8080/"
        },
        "id": "5RULzJaxuwFG",
        "outputId": "2f2e9371-6384-448d-9af5-18d89c18f5b3"
      },
      "outputs": [
        {
          "output_type": "stream",
          "name": "stdout",
          "text": [
            "Using the contexts below, answer the query.\n",
            "\n",
            "    Contexts:\n",
            "    Home appliances can be returned within 30 days of purchase. Make sure the appliance is unused, in its original packaging, and includes all accessories. A restocking fee of 10% may apply.\n",
            "For Camera returns, please ensure the camera, lens, and all accessories are included in the original packaging. Returns are accepted within 30 days, and items must be in new condition.\n",
            "Laptops can be returned within 14 days of purchase. Please make sure the device is in its original condition with all accessories and packaging. A restocking fee of 10% may apply.\n",
            "\n",
            "    Query: How should I return the water bottle?\n"
          ]
        }
      ],
      "source": [
        "query = \"How should I return the water bottle?\"\n",
        "print(augment_prompt(query))"
      ]
    },
    {
      "cell_type": "markdown",
      "metadata": {
        "id": "v0yvFBfPuGkd"
      },
      "source": [
        "## Compare the results:\n",
        "---\n",
        "## Question: How do I return my LED TV?\n",
        "### Vanilla :\n",
        "Returning a water bottle depends on the store from where it was purchased and their return policy. Here are some general steps that you can follow:\n",
        "\n",
        "1. **Check the Store's Return Policy**: Every store's return policy is different. Some may allow returns within a certain period of time, while others might not accept returns at all. This information should be available on the store's website or on your receipt.\n",
        "\n",
        "2. **Prepare the water bottle for Return**: If possible, clean and dry the water bottle. Repackage it in its original packaging if you have it.\n",
        "\n",
        "3. **Contact the Store**: Reach out to the store's customer service and inform them that you want to return the water bottle. They can provide you with specific instructions.\n",
        "\n",
        "4. **Ship or Drop Off**: Depending on the store's policy, you might need to ship the water bottle back to them or drop it off at a store location.\n",
        "\n",
        "Remember to always check the specifics with the store where you purchased the water bottle.\n",
        "\n",
        "### RAG:\n",
        "I'm sorry, but the contexts provided do not contain information on how to return a water bottle. Please refer to the specific return policy for water bottles or contact customer service.\n",
        "\n",
        "---\n",
        "\n",
        "## Comments:\n",
        "Upon reviewing the augemented prompt, we see the below prompt:\n",
        "\n",
        "### Prompt:\n",
        "\n",
        "Using the contexts below, answer the query.\n",
        "\n",
        "Contexts:\n",
        "\n",
        "Home appliances can be returned within 30 days of purchase. Make sure the appliance is unused, in its original packaging, and includes all accessories. A restocking fee of 10% may apply.\n",
        "\n",
        "For Camera returns, please ensure the camera, lens, and all accessories are included in the original packaging. Returns are accepted within 30 days, and items must be in new condition.\n",
        "\n",
        "Laptops can be returned within 14 days of purchase. Please make sure the device is in its original condition with all accessories and packaging. A restocking fee of 10% may apply.\n",
        "\n",
        "Query:\n",
        "\n",
        "How should I return the water bottle?\"\n",
        "\n",
        "### Analysis:\n",
        "Due to lack of relevant context, our RAG chatbot explicitly states that the provided contexts do not include specific information on how to return a water bottle and advises referring to the specific return policy or contacting customer service. This approach avoids giving potentially incorrect or irrelevant information by sticking closely to the provided contexts.\n",
        "\n",
        "---"
      ]
    },
    {
      "cell_type": "markdown",
      "metadata": {
        "id": "7clBPSKo4Z9v"
      },
      "source": [
        "---"
      ]
    },
    {
      "cell_type": "code",
      "source": [
        "# RAG\n",
        "query = \"You don't know the process for returning a water bottle but could you outline a general return process for me?\"\n",
        "# create a new user prompt\n",
        "prompt = HumanMessage(\n",
        "    content=augment_prompt(query)\n",
        ")\n",
        "\n",
        "# add to messages\n",
        "messages_RAG.append(prompt)\n",
        "\n",
        "# send to ChatOpenAI\n",
        "res_RAG = chat.invoke(messages_RAG)\n",
        "\n",
        "print(res_RAG.content)"
      ],
      "metadata": {
        "id": "rtpFwtwu627g",
        "outputId": "847061d8-1cca-4154-f2b0-e4af15609c62",
        "colab": {
          "base_uri": "https://localhost:8080/"
        }
      },
      "execution_count": 22,
      "outputs": [
        {
          "output_type": "stream",
          "name": "stdout",
          "text": [
            "Sure, while the specific process may vary slightly depending on the product, here's a general overview of a return process based on the provided contexts:\n",
            "\n",
            "1. Make sure your product is within the return period. For instance, home appliances and cameras have a 30-day return period, while laptops have a 14-day return period.\n",
            "\n",
            "2. Ensure that the product is in its original condition. It should be unused and should include all accessories.\n",
            "\n",
            "3. Pack the product in its original packaging.\n",
            "\n",
            "4. Be aware that a restocking fee may apply. This fee is typically 10%, but for certain items like LED TVs, it can be 15%.\n",
            "\n",
            "5. Once you have prepared the item for return, contact the customer service team to initiate the return process. \n",
            "\n",
            "Please note that these steps are general and may not apply to all items or situations. Always check the specific return policy for the item you purchased.\n"
          ]
        }
      ]
    },
    {
      "cell_type": "code",
      "source": [],
      "metadata": {
        "id": "dP4EJt-v6_fe"
      },
      "execution_count": null,
      "outputs": []
    }
  ],
  "metadata": {
    "accelerator": "GPU",
    "colab": {
      "gpuType": "T4",
      "provenance": []
    },
    "kernelspec": {
      "display_name": "Python 3",
      "name": "python3"
    },
    "language_info": {
      "codemirror_mode": {
        "name": "ipython",
        "version": 3
      },
      "file_extension": ".py",
      "mimetype": "text/x-python",
      "name": "python",
      "nbconvert_exporter": "python",
      "pygments_lexer": "ipython3",
      "version": "3.9.12"
    },
    "orig_nbformat": 4
  },
  "nbformat": 4,
  "nbformat_minor": 0
}